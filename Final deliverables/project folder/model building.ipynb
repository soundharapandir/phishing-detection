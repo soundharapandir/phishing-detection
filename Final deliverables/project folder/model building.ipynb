{
 "cells": [
  {
   "cell_type": "markdown",
   "id": "c3044f79",
   "metadata": {},
   "source": [
    "# Collection of Dataset"
   ]
  },
  {
   "cell_type": "markdown",
   "id": "8edb4aad",
   "metadata": {},
   "source": [
    "# Data-Preprocessing\n"
   ]
  },
  {
   "cell_type": "markdown",
   "id": "e93ab3bb",
   "metadata": {},
   "source": [
    "# Importing the libraries\n"
   ]
  },
  {
   "cell_type": "code",
   "execution_count": 1,
   "id": "98e96cec",
   "metadata": {},
   "outputs": [],
   "source": [
    "import pandas as pd\n",
    "import numpy as np\n",
    "from sklearn.preprocessing import MinMaxScaler\n",
    "from sklearn.metrics import confusion_matrix,accuracy_score"
   ]
  },
  {
   "cell_type": "markdown",
   "id": "364b00c4",
   "metadata": {},
   "source": [
    "# Reading the dataset\n"
   ]
  },
  {
   "cell_type": "code",
   "execution_count": 2,
   "id": "7795aa16",
   "metadata": {},
   "outputs": [
    {
     "data": {
      "text/html": [
       "<div>\n",
       "<style scoped>\n",
       "    .dataframe tbody tr th:only-of-type {\n",
       "        vertical-align: middle;\n",
       "    }\n",
       "\n",
       "    .dataframe tbody tr th {\n",
       "        vertical-align: top;\n",
       "    }\n",
       "\n",
       "    .dataframe thead th {\n",
       "        text-align: right;\n",
       "    }\n",
       "</style>\n",
       "<table border=\"1\" class=\"dataframe\">\n",
       "  <thead>\n",
       "    <tr style=\"text-align: right;\">\n",
       "      <th></th>\n",
       "      <th>index</th>\n",
       "      <th>having_IPhaving_IP_Address</th>\n",
       "      <th>URLURL_Length</th>\n",
       "      <th>Shortining_Service</th>\n",
       "      <th>having_At_Symbol</th>\n",
       "      <th>double_slash_redirecting</th>\n",
       "      <th>Prefix_Suffix</th>\n",
       "      <th>having_Sub_Domain</th>\n",
       "      <th>SSLfinal_State</th>\n",
       "      <th>Domain_registeration_length</th>\n",
       "      <th>...</th>\n",
       "      <th>popUpWidnow</th>\n",
       "      <th>Iframe</th>\n",
       "      <th>age_of_domain</th>\n",
       "      <th>DNSRecord</th>\n",
       "      <th>web_traffic</th>\n",
       "      <th>Page_Rank</th>\n",
       "      <th>Google_Index</th>\n",
       "      <th>Links_pointing_to_page</th>\n",
       "      <th>Statistical_report</th>\n",
       "      <th>Result</th>\n",
       "    </tr>\n",
       "  </thead>\n",
       "  <tbody>\n",
       "    <tr>\n",
       "      <th>0</th>\n",
       "      <td>1</td>\n",
       "      <td>-1</td>\n",
       "      <td>1</td>\n",
       "      <td>1</td>\n",
       "      <td>1</td>\n",
       "      <td>-1</td>\n",
       "      <td>-1</td>\n",
       "      <td>-1</td>\n",
       "      <td>-1</td>\n",
       "      <td>-1</td>\n",
       "      <td>...</td>\n",
       "      <td>1</td>\n",
       "      <td>1</td>\n",
       "      <td>-1</td>\n",
       "      <td>-1</td>\n",
       "      <td>-1</td>\n",
       "      <td>-1</td>\n",
       "      <td>1</td>\n",
       "      <td>1</td>\n",
       "      <td>-1</td>\n",
       "      <td>-1</td>\n",
       "    </tr>\n",
       "    <tr>\n",
       "      <th>1</th>\n",
       "      <td>2</td>\n",
       "      <td>1</td>\n",
       "      <td>1</td>\n",
       "      <td>1</td>\n",
       "      <td>1</td>\n",
       "      <td>1</td>\n",
       "      <td>-1</td>\n",
       "      <td>0</td>\n",
       "      <td>1</td>\n",
       "      <td>-1</td>\n",
       "      <td>...</td>\n",
       "      <td>1</td>\n",
       "      <td>1</td>\n",
       "      <td>-1</td>\n",
       "      <td>-1</td>\n",
       "      <td>0</td>\n",
       "      <td>-1</td>\n",
       "      <td>1</td>\n",
       "      <td>1</td>\n",
       "      <td>1</td>\n",
       "      <td>-1</td>\n",
       "    </tr>\n",
       "    <tr>\n",
       "      <th>2</th>\n",
       "      <td>3</td>\n",
       "      <td>1</td>\n",
       "      <td>0</td>\n",
       "      <td>1</td>\n",
       "      <td>1</td>\n",
       "      <td>1</td>\n",
       "      <td>-1</td>\n",
       "      <td>-1</td>\n",
       "      <td>-1</td>\n",
       "      <td>-1</td>\n",
       "      <td>...</td>\n",
       "      <td>1</td>\n",
       "      <td>1</td>\n",
       "      <td>1</td>\n",
       "      <td>-1</td>\n",
       "      <td>1</td>\n",
       "      <td>-1</td>\n",
       "      <td>1</td>\n",
       "      <td>0</td>\n",
       "      <td>-1</td>\n",
       "      <td>-1</td>\n",
       "    </tr>\n",
       "    <tr>\n",
       "      <th>3</th>\n",
       "      <td>4</td>\n",
       "      <td>1</td>\n",
       "      <td>0</td>\n",
       "      <td>1</td>\n",
       "      <td>1</td>\n",
       "      <td>1</td>\n",
       "      <td>-1</td>\n",
       "      <td>-1</td>\n",
       "      <td>-1</td>\n",
       "      <td>1</td>\n",
       "      <td>...</td>\n",
       "      <td>1</td>\n",
       "      <td>1</td>\n",
       "      <td>-1</td>\n",
       "      <td>-1</td>\n",
       "      <td>1</td>\n",
       "      <td>-1</td>\n",
       "      <td>1</td>\n",
       "      <td>-1</td>\n",
       "      <td>1</td>\n",
       "      <td>-1</td>\n",
       "    </tr>\n",
       "    <tr>\n",
       "      <th>4</th>\n",
       "      <td>5</td>\n",
       "      <td>1</td>\n",
       "      <td>0</td>\n",
       "      <td>-1</td>\n",
       "      <td>1</td>\n",
       "      <td>1</td>\n",
       "      <td>-1</td>\n",
       "      <td>1</td>\n",
       "      <td>1</td>\n",
       "      <td>-1</td>\n",
       "      <td>...</td>\n",
       "      <td>-1</td>\n",
       "      <td>1</td>\n",
       "      <td>-1</td>\n",
       "      <td>-1</td>\n",
       "      <td>0</td>\n",
       "      <td>-1</td>\n",
       "      <td>1</td>\n",
       "      <td>1</td>\n",
       "      <td>1</td>\n",
       "      <td>1</td>\n",
       "    </tr>\n",
       "  </tbody>\n",
       "</table>\n",
       "<p>5 rows × 32 columns</p>\n",
       "</div>"
      ],
      "text/plain": [
       "   index  having_IPhaving_IP_Address  URLURL_Length  Shortining_Service  \\\n",
       "0      1                          -1              1                   1   \n",
       "1      2                           1              1                   1   \n",
       "2      3                           1              0                   1   \n",
       "3      4                           1              0                   1   \n",
       "4      5                           1              0                  -1   \n",
       "\n",
       "   having_At_Symbol  double_slash_redirecting  Prefix_Suffix  \\\n",
       "0                 1                        -1             -1   \n",
       "1                 1                         1             -1   \n",
       "2                 1                         1             -1   \n",
       "3                 1                         1             -1   \n",
       "4                 1                         1             -1   \n",
       "\n",
       "   having_Sub_Domain  SSLfinal_State  Domain_registeration_length  ...  \\\n",
       "0                 -1              -1                           -1  ...   \n",
       "1                  0               1                           -1  ...   \n",
       "2                 -1              -1                           -1  ...   \n",
       "3                 -1              -1                            1  ...   \n",
       "4                  1               1                           -1  ...   \n",
       "\n",
       "   popUpWidnow  Iframe  age_of_domain  DNSRecord  web_traffic  Page_Rank  \\\n",
       "0            1       1             -1         -1           -1         -1   \n",
       "1            1       1             -1         -1            0         -1   \n",
       "2            1       1              1         -1            1         -1   \n",
       "3            1       1             -1         -1            1         -1   \n",
       "4           -1       1             -1         -1            0         -1   \n",
       "\n",
       "   Google_Index  Links_pointing_to_page  Statistical_report  Result  \n",
       "0             1                       1                  -1      -1  \n",
       "1             1                       1                   1      -1  \n",
       "2             1                       0                  -1      -1  \n",
       "3             1                      -1                   1      -1  \n",
       "4             1                       1                   1       1  \n",
       "\n",
       "[5 rows x 32 columns]"
      ]
     },
     "execution_count": 2,
     "metadata": {},
     "output_type": "execute_result"
    }
   ],
   "source": [
    "df=pd.read_csv('dataset_website.csv')\n",
    "df.head()"
   ]
  },
  {
   "cell_type": "markdown",
   "id": "5991b36a",
   "metadata": {},
   "source": [
    "# Handling Null Values\n"
   ]
  },
  {
   "cell_type": "code",
   "execution_count": 3,
   "id": "43ba4975",
   "metadata": {},
   "outputs": [
    {
     "name": "stdout",
     "output_type": "stream",
     "text": [
      "<class 'pandas.core.frame.DataFrame'>\n",
      "RangeIndex: 11055 entries, 0 to 11054\n",
      "Data columns (total 32 columns):\n",
      " #   Column                       Non-Null Count  Dtype\n",
      "---  ------                       --------------  -----\n",
      " 0   index                        11055 non-null  int64\n",
      " 1   having_IPhaving_IP_Address   11055 non-null  int64\n",
      " 2   URLURL_Length                11055 non-null  int64\n",
      " 3   Shortining_Service           11055 non-null  int64\n",
      " 4   having_At_Symbol             11055 non-null  int64\n",
      " 5   double_slash_redirecting     11055 non-null  int64\n",
      " 6   Prefix_Suffix                11055 non-null  int64\n",
      " 7   having_Sub_Domain            11055 non-null  int64\n",
      " 8   SSLfinal_State               11055 non-null  int64\n",
      " 9   Domain_registeration_length  11055 non-null  int64\n",
      " 10  Favicon                      11055 non-null  int64\n",
      " 11  port                         11055 non-null  int64\n",
      " 12  HTTPS_token                  11055 non-null  int64\n",
      " 13  Request_URL                  11055 non-null  int64\n",
      " 14  URL_of_Anchor                11055 non-null  int64\n",
      " 15  Links_in_tags                11055 non-null  int64\n",
      " 16  SFH                          11055 non-null  int64\n",
      " 17  Submitting_to_email          11055 non-null  int64\n",
      " 18  Abnormal_URL                 11055 non-null  int64\n",
      " 19  Redirect                     11055 non-null  int64\n",
      " 20  on_mouseover                 11055 non-null  int64\n",
      " 21  RightClick                   11055 non-null  int64\n",
      " 22  popUpWidnow                  11055 non-null  int64\n",
      " 23  Iframe                       11055 non-null  int64\n",
      " 24  age_of_domain                11055 non-null  int64\n",
      " 25  DNSRecord                    11055 non-null  int64\n",
      " 26  web_traffic                  11055 non-null  int64\n",
      " 27  Page_Rank                    11055 non-null  int64\n",
      " 28  Google_Index                 11055 non-null  int64\n",
      " 29  Links_pointing_to_page       11055 non-null  int64\n",
      " 30  Statistical_report           11055 non-null  int64\n",
      " 31  Result                       11055 non-null  int64\n",
      "dtypes: int64(32)\n",
      "memory usage: 2.7 MB\n"
     ]
    }
   ],
   "source": [
    "\n",
    "\n",
    "df.info()\n",
    "\n"
   ]
  },
  {
   "cell_type": "code",
   "execution_count": 4,
   "id": "48d4972f",
   "metadata": {},
   "outputs": [
    {
     "data": {
      "text/plain": [
       "index                          False\n",
       "having_IPhaving_IP_Address     False\n",
       "URLURL_Length                  False\n",
       "Shortining_Service             False\n",
       "having_At_Symbol               False\n",
       "double_slash_redirecting       False\n",
       "Prefix_Suffix                  False\n",
       "having_Sub_Domain              False\n",
       "SSLfinal_State                 False\n",
       "Domain_registeration_length    False\n",
       "Favicon                        False\n",
       "port                           False\n",
       "HTTPS_token                    False\n",
       "Request_URL                    False\n",
       "URL_of_Anchor                  False\n",
       "Links_in_tags                  False\n",
       "SFH                            False\n",
       "Submitting_to_email            False\n",
       "Abnormal_URL                   False\n",
       "Redirect                       False\n",
       "on_mouseover                   False\n",
       "RightClick                     False\n",
       "popUpWidnow                    False\n",
       "Iframe                         False\n",
       "age_of_domain                  False\n",
       "DNSRecord                      False\n",
       "web_traffic                    False\n",
       "Page_Rank                      False\n",
       "Google_Index                   False\n",
       "Links_pointing_to_page         False\n",
       "Statistical_report             False\n",
       "Result                         False\n",
       "dtype: bool"
      ]
     },
     "execution_count": 4,
     "metadata": {},
     "output_type": "execute_result"
    }
   ],
   "source": [
    "df.isnull().any()"
   ]
  },
  {
   "cell_type": "markdown",
   "id": "8c21004c",
   "metadata": {},
   "source": [
    "# Splitting The Data\n"
   ]
  },
  {
   "cell_type": "code",
   "execution_count": 5,
   "id": "12cb46b1",
   "metadata": {},
   "outputs": [],
   "source": [
    "# splitting the data as independent and dependent\n",
    "# removing the index column in independent dataset\n",
    "x=df.iloc[:,1:31].values"
   ]
  },
  {
   "cell_type": "code",
   "execution_count": 6,
   "id": "6ffd69e5",
   "metadata": {},
   "outputs": [
    {
     "data": {
      "text/plain": [
       "array([[-1,  1,  1, ...,  1,  1, -1],\n",
       "       [ 1,  1,  1, ...,  1,  1,  1],\n",
       "       [ 1,  0,  1, ...,  1,  0, -1],\n",
       "       ...,\n",
       "       [ 1, -1,  1, ...,  1,  0,  1],\n",
       "       [-1, -1,  1, ...,  1,  1,  1],\n",
       "       [-1, -1,  1, ..., -1,  1, -1]], dtype=int64)"
      ]
     },
     "execution_count": 6,
     "metadata": {},
     "output_type": "execute_result"
    }
   ],
   "source": [
    "x"
   ]
  },
  {
   "cell_type": "code",
   "execution_count": 7,
   "id": "b01daddc",
   "metadata": {},
   "outputs": [],
   "source": [
    "y=df.iloc[:,-1].values"
   ]
  },
  {
   "cell_type": "code",
   "execution_count": 8,
   "id": "aa59f002",
   "metadata": {},
   "outputs": [
    {
     "data": {
      "text/plain": [
       "array([-1, -1, -1, ..., -1, -1, -1], dtype=int64)"
      ]
     },
     "execution_count": 8,
     "metadata": {},
     "output_type": "execute_result"
    }
   ],
   "source": [
    "y"
   ]
  },
  {
   "cell_type": "code",
   "execution_count": 9,
   "id": "3720c70f",
   "metadata": {},
   "outputs": [],
   "source": [
    "from sklearn.model_selection import train_test_split\n",
    "x_train,x_test,y_train,y_test=train_test_split(x,y,test_size=0.2,random_state=0)"
   ]
  },
  {
   "cell_type": "code",
   "execution_count": 10,
   "id": "727c6dfb",
   "metadata": {},
   "outputs": [
    {
     "data": {
      "text/plain": [
       "array([[ 1, -1,  1, ...,  1,  0,  1],\n",
       "       [ 1, -1,  1, ...,  1,  0,  1],\n",
       "       [ 1, -1,  1, ...,  1,  1,  1],\n",
       "       ...,\n",
       "       [-1, -1,  1, ...,  1,  1,  1],\n",
       "       [ 1, -1,  1, ...,  1,  0,  1],\n",
       "       [ 1, -1,  1, ...,  1,  1,  1]], dtype=int64)"
      ]
     },
     "execution_count": 10,
     "metadata": {},
     "output_type": "execute_result"
    }
   ],
   "source": [
    "\n",
    "\n",
    "x_test\n",
    "\n"
   ]
  },
  {
   "cell_type": "code",
   "execution_count": 11,
   "id": "56b17a70",
   "metadata": {},
   "outputs": [
    {
     "data": {
      "text/plain": [
       "array([[ 1, -1,  1, ...,  1,  1,  1],\n",
       "       [ 1,  1,  1, ...,  1,  0,  1],\n",
       "       [-1, -1,  1, ...,  1,  1, -1],\n",
       "       ...,\n",
       "       [-1,  1,  1, ...,  1,  1,  1],\n",
       "       [-1, -1,  1, ...,  1,  1,  1],\n",
       "       [ 1, -1,  1, ...,  1,  1,  1]], dtype=int64)"
      ]
     },
     "execution_count": 11,
     "metadata": {},
     "output_type": "execute_result"
    }
   ],
   "source": [
    "\n",
    "\n",
    "x_train\n",
    "\n"
   ]
  },
  {
   "cell_type": "markdown",
   "id": "a748d3ee",
   "metadata": {},
   "source": [
    "# Choose The Appropriate Model\n"
   ]
  },
  {
   "cell_type": "code",
   "execution_count": 13,
   "id": "cbf22ee6",
   "metadata": {},
   "outputs": [
    {
     "data": {
      "text/plain": [
       "RandomForestClassifier(n_estimators=10)"
      ]
     },
     "execution_count": 13,
     "metadata": {},
     "output_type": "execute_result"
    }
   ],
   "source": [
    "# Random Forest Classifier Model\n",
    "from sklearn.ensemble import RandomForestClassifier\n",
    "\n",
    "# instantiate the model\n",
    "forest = RandomForestClassifier(n_estimators=10)\n",
    "\n",
    "# fit the model \n",
    "forest.fit(x_train,y_train)"
   ]
  },
  {
   "cell_type": "code",
   "execution_count": 14,
   "id": "a2321745",
   "metadata": {},
   "outputs": [
    {
     "data": {
      "text/plain": [
       "0.966078697421981"
      ]
     },
     "execution_count": 14,
     "metadata": {},
     "output_type": "execute_result"
    }
   ],
   "source": [
    "y_pred1=forest.predict(x_test)\n",
    "from sklearn.metrics import accuracy_score\n",
    "log_reg=accuracy_score(y_test,y_pred1)\n",
    "log_reg"
   ]
  },
  {
   "cell_type": "code",
   "execution_count": 15,
   "id": "8d2dcf0e",
   "metadata": {},
   "outputs": [],
   "source": [
    "import pickle\n",
    "pickle.dump(forest,open('phishing_website.pkl','wb'))"
   ]
  },
  {
   "cell_type": "code",
   "execution_count": null,
   "id": "e70d638c",
   "metadata": {},
   "outputs": [],
   "source": []
  }
 ],
 "metadata": {
  "kernelspec": {
   "display_name": "Python 3.10.6 ('Flask': venv)",
   "language": "python",
   "name": "python3"
  },
  "language_info": {
   "codemirror_mode": {
    "name": "ipython",
    "version": 3
   },
   "file_extension": ".py",
   "mimetype": "text/x-python",
   "name": "python",
   "nbconvert_exporter": "python",
   "pygments_lexer": "ipython3",
   "version": "3.10.6"
  },
  "vscode": {
   "interpreter": {
    "hash": "03ba6899335980639e062d131225da05702142325eb16c476e9d80cb882bedb2"
   }
  }
 },
 "nbformat": 4,
 "nbformat_minor": 5
}
